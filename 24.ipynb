{
 "cells": [
  {
   "cell_type": "code",
   "execution_count": 2,
   "metadata": {},
   "outputs": [],
   "source": [
    "import numpy as np\n",
    "import random\n",
    "import itertools"
   ]
  },
  {
   "cell_type": "code",
   "execution_count": 11,
   "metadata": {},
   "outputs": [
    {
     "name": "stdout",
     "output_type": "stream",
     "text": [
      " \n",
      "0\n",
      " \n",
      "1\n",
      " \n",
      "1 x\n",
      " \n",
      "1 x + 1\n",
      "   2\n",
      "1 x\n",
      "   2\n",
      "1 x + 1\n",
      "   2\n",
      "1 x + 1 x\n",
      "   2\n",
      "1 x + 1 x + 1\n",
      "[array([0., 0., 0., 0., 0., 0., 0., 0., 0., 0., 0., 0., 0., 0., 0.]), array([0., 0., 1., 1., 0., 0., 0., 1., 1., 1., 0., 0., 1., 0., 1.]), array([0., 1., 1., 0., 0., 0., 1., 1., 1., 0., 0., 1., 0., 1., 0.]), array([0., 1., 0., 1., 0., 0., 1., 0., 0., 1., 0., 1., 1., 1., 1.]), array([1., 1., 0., 0., 0., 1., 1., 1., 0., 0., 1., 0., 1., 0., 0.]), array([1., 1., 1., 1., 0., 1., 1., 0., 1., 1., 1., 0., 0., 0., 1.]), array([1., 0., 1., 0., 0., 1., 0., 0., 1., 0., 1., 1., 1., 1., 0.]), array([1., 0., 0., 1., 0., 1., 0., 1., 0., 1., 1., 1., 0., 1., 1.])]\n"
     ]
    }
   ],
   "source": [
    "# Define the input message u(D)=1+ D^2\n",
    "#u = np.poly1d([1, 0, 1])\n",
    "# Define the generator polynomials for the convolutional code\n",
    "# Define a vector of polynomial coefficients\n",
    "coefficients = np.array([[1, 0, 1], [1, 1, 1], [1, 1, 0]])\n",
    "# Define a vector of polynomial functions\n",
    "G= [np.poly1d(coefficients[0,:]), np.poly1d(coefficients[1,:]), np.poly1d(coefficients[2,:])]\n",
    "#encode the input message\n",
    "def encode(u):\n",
    "    x=np.zeros((3,5))\n",
    "    for i in range(3):\n",
    "        s=G[i]*u\n",
    "        c=s.coefficients %2\n",
    "        if len(c)!=5:\n",
    "            a=np.zeros((5-len(c)))\n",
    "            c=np.concatenate([a,c])\n",
    "        \n",
    "        x[i,:]= c\n",
    "    \n",
    "    return(np.concatenate([x[2,:],x[1,:],x[0,:]]))\n",
    "vectors = list(itertools.product([0, 1], repeat=3))\n",
    "codebook=[]\n",
    "for i in range(8):\n",
    "    u = np.poly1d(vectors[i])\n",
    "    print(u)\n",
    "    codebook.append(encode(u))\n",
    "print(codebook)\n",
    "\n"
   ]
  },
  {
   "cell_type": "code",
   "execution_count": 34,
   "metadata": {},
   "outputs": [
    {
     "name": "stdout",
     "output_type": "stream",
     "text": [
      "0.275\n",
      "Encoded message: [0. 1. 1. 0. 0. 0. 1. 1. 1. 0. 0. 1. 0. 1. 0. 0. 0. 0. 0. 0. 0. 0. 0. 0.\n",
      " 0. 0. 0. 0. 0. 0. 0. 0. 1. 1. 0. 0. 0. 1. 1. 1. 0. 0. 1. 0. 1. 0. 1. 0.\n",
      " 1. 0. 0. 1. 0. 0. 1. 0. 1. 1. 1. 1. 0. 1. 1. 0. 0. 0. 1. 1. 1. 0. 0. 1.\n",
      " 0. 1. 0. 0. 0. 0. 0. 0. 0. 0. 0. 0. 0. 0. 0. 0. 0. 0. 0. 0. 1. 1. 0. 0.\n",
      " 0. 1. 1. 1. 0. 0. 1. 0. 1. 0. 1. 0. 1. 0. 0. 1. 0. 0. 1. 0. 1. 1. 1. 1.]\n",
      "Received message: [1. 1. 0. 1. 0. 1. 1. 1. 0. 0. 0. 1. 0. 1. 0. 0. 0. 0. 0. 0. 0. 0. 0. 0.\n",
      " 0. 0. 0. 1. 0. 0. 0. 0. 1. 1. 0. 0. 1. 1. 1. 1. 0. 1. 1. 1. 1. 1. 1. 0.\n",
      " 1. 1. 0. 0. 0. 0. 1. 1. 1. 1. 1. 1. 0. 1. 1. 0. 0. 1. 1. 1. 0. 1. 0. 0.\n",
      " 0. 1. 0. 1. 0. 1. 0. 1. 0. 0. 0. 0. 0. 1. 0. 0. 0. 0. 1. 1. 1. 0. 0. 0.\n",
      " 0. 0. 1. 1. 0. 1. 1. 0. 0. 1. 1. 0. 0. 1. 1. 0. 0. 0. 0. 0. 1. 1. 1. 1.]\n"
     ]
    }
   ],
   "source": [
    "\n",
    "\n",
    "def noisy_channel(encoded_message, crossover_prob):\n",
    "    \"\"\"\n",
    "    Simulates transmission of an encoded message through a memoryless noisy channel based on a given crossover probability.\n",
    "    \n",
    "    Parameters:\n",
    "        encoded_message (array): The encoded message to transmit.\n",
    "        crossover_prob (float): The probability that a bit will be flipped during transmission.\n",
    "    \n",
    "    Returns:\n",
    "        str: The received message after transmission through the noisy channel.\n",
    "    \"\"\"\n",
    "    y = []\n",
    "    for bit in encoded_message:\n",
    "        if random.random() < crossover_prob:\n",
    "            # flip the bit\n",
    "            if bit == 1 :\n",
    "                y=np.append(y,0)  \n",
    "            else :\n",
    "                y=np.append(y,1)\n",
    "        else:\n",
    "            # leave the bit unchanged\n",
    "            y=np.append(y, int(bit)) \n",
    "    return y\n",
    "received_message=np.zeros((1,15))\n",
    "crossover_prob = 0.3\n",
    "encoded_message =np.concatenate([ codebook[2], codebook[0], codebook[1],codebook[3],codebook[2], codebook[0], codebook[1],codebook[3] ])\n",
    "received_message = noisy_channel(encoded_message, crossover_prob)\n",
    "s=np.sum(encoded_message!=received_message)/len(received_message)\n",
    "print(s)\n",
    "print('Encoded message:', encoded_message)\n",
    "print('Received message:', received_message)\n"
   ]
  },
  {
   "cell_type": "code",
   "execution_count": 91,
   "metadata": {},
   "outputs": [],
   "source": [
    "import numpy as np\n",
    "\n",
    "def viterbi_decoder(received_message, generator_matrix):\n",
    "    \"\"\"\n",
    "    Performs maximum likelihood decoding on a convolutional code using the Viterbi algorithm.\n",
    "    \n",
    "    Parameters:\n",
    "        received_message (numpy.ndarray): A 2D array of shape (num_states, message_length), where num_states is the\n",
    "            number of possible states in the convolutional code (usually 2^(k-1) for a kth-order code), and message_length\n",
    "            is the length of the received message. Each row of the array represents a possible state, and each column\n",
    "            represents a received bit in the message.\n",
    "        generator_matrix (numpy.ndarray): A 2D array of shape (num_outputs, k), where num_outputs is the number of outputs\n",
    "            from the convolutional encoder (usually 2 for a binary code), and k is the number of input bits to the encoder.\n",
    "            The rows of the matrix represent the outputs for each possible input bit sequence of length k.\n",
    "    \n",
    "    Returns:\n",
    "        numpy.ndarray: A 1D array of length message_length containing the decoded message.\n",
    "    \"\"\"\n",
    "    num_states, message_length = received_message.shape\n",
    "    \n",
    "    # Initialize the path metrics and survivor paths\n",
    "    path_metrics = np.zeros((num_states, message_length))\n",
    "    survivor_paths = np.zeros((num_states, message_length), dtype=int)\n",
    "    \n",
    "    # Set the initial path metric to 0 for the all-zero state and infinity for all other states\n",
    "    path_metrics[:, 0] = np.inf\n",
    "    path_metrics[0, 0] = 0\n",
    "    \n",
    "    # Iterate over the received bits in the message\n",
    "    for t in range(1, message_length):\n",
    "        # Iterate over the possible current states\n",
    "        for s in range(num_states):\n",
    "            # Compute the branch metrics for each possible input bit sequence\n",
    "            branch_metrics = np.zeros(2)\n",
    "            for i in range(2):\n",
    "                input_bits = np.concatenate(([i], received_message[s, t-1:t]))\n",
    "                output_bits =(generator_matrix * input_bits) % 2\n",
    "                branch_metrics[i] = np.sum(output_bits != received_message[:, t])\n",
    "            \n",
    "            # Compute the path metrics and survivor paths for each possible previous state\n",
    "            prev_path_metrics = path_metrics[:, t-1]\n",
    "            prev_survivor_paths = np.tile(np.arange(num_states), (2, 1)).T\n",
    "            prev_survivor_paths[:, 0] = np.repeat(s, num_states)\n",
    "            path_metrics[:, t] = np.min(prev_path_metrics + branch_metrics)\n",
    "            survivor_paths[:, t] = prev_survivor_paths[np.argmin(prev_path_metrics + branch_metrics)]\n",
    "    \n",
    "    # Find the survivor path with the minimum path metric\n",
    "    best_path_end = np.argmin(path_metrics[:, -1])\n",
    "    decoded_message = np.zeros(message_length, dtype=int)\n",
    "    decoded_message[-1] = best_path_end\n",
    "    for t in range(message_length-2, -1, -1):\n",
    "        decoded_message[t] = survivor_paths[decoded_message[t+1], t+1]\n",
    "    \n",
    "    return decoded_message\n"
   ]
  },
  {
   "cell_type": "code",
   "execution_count": 92,
   "metadata": {},
   "outputs": [
    {
     "ename": "ValueError",
     "evalue": "operands could not be broadcast together with shapes (3,3) (2,) ",
     "output_type": "error",
     "traceback": [
      "\u001b[1;31m---------------------------------------------------------------------------\u001b[0m",
      "\u001b[1;31mValueError\u001b[0m                                Traceback (most recent call last)",
      "Cell \u001b[1;32mIn[92], line 3\u001b[0m\n\u001b[0;32m      1\u001b[0m \u001b[39m# example usage\u001b[39;00m\n\u001b[1;32m----> 3\u001b[0m decoded_message \u001b[39m=\u001b[39m viterbi_decoder(received_message, coefficients)\n\u001b[0;32m      4\u001b[0m \u001b[39mprint\u001b[39m(decoded_message)\n",
      "Cell \u001b[1;32mIn[91], line 37\u001b[0m, in \u001b[0;36mviterbi_decoder\u001b[1;34m(received_message, generator_matrix)\u001b[0m\n\u001b[0;32m     35\u001b[0m \u001b[39mfor\u001b[39;00m i \u001b[39min\u001b[39;00m \u001b[39mrange\u001b[39m(\u001b[39m2\u001b[39m):\n\u001b[0;32m     36\u001b[0m     input_bits \u001b[39m=\u001b[39m np\u001b[39m.\u001b[39mconcatenate(([i], received_message[s, t\u001b[39m-\u001b[39m\u001b[39m1\u001b[39m:t]))\n\u001b[1;32m---> 37\u001b[0m     output_bits \u001b[39m=\u001b[39m(generator_matrix \u001b[39m*\u001b[39;49m input_bits) \u001b[39m%\u001b[39m \u001b[39m2\u001b[39m\n\u001b[0;32m     38\u001b[0m     branch_metrics[i] \u001b[39m=\u001b[39m np\u001b[39m.\u001b[39msum(output_bits \u001b[39m!=\u001b[39m received_message[:, t])\n\u001b[0;32m     40\u001b[0m \u001b[39m# Compute the path metrics and survivor paths for each possible previous state\u001b[39;00m\n",
      "\u001b[1;31mValueError\u001b[0m: operands could not be broadcast together with shapes (3,3) (2,) "
     ]
    }
   ],
   "source": [
    "# example usage\n",
    "\n",
    "decoded_message = viterbi_decoder(received_message, coefficients)\n",
    "print(decoded_message)\n"
   ]
  }
 ],
 "metadata": {
  "kernelspec": {
   "display_name": "Python 3",
   "language": "python",
   "name": "python3"
  },
  "language_info": {
   "codemirror_mode": {
    "name": "ipython",
    "version": 3
   },
   "file_extension": ".py",
   "mimetype": "text/x-python",
   "name": "python",
   "nbconvert_exporter": "python",
   "pygments_lexer": "ipython3",
   "version": "3.11.1"
  },
  "orig_nbformat": 4,
  "vscode": {
   "interpreter": {
    "hash": "c630d4c68815c567c5c3556f73760324cbd7b789992ba81adab90dfcd7c69aac"
   }
  }
 },
 "nbformat": 4,
 "nbformat_minor": 2
}
