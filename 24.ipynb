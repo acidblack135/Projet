{
 "cells": [
  {
   "cell_type": "code",
   "execution_count": 116,
   "metadata": {},
   "outputs": [],
   "source": [
    "import numpy as np\n",
    "import random\n",
    "import itertools\n",
    "import matplotlib.pyplot as plt"
   ]
  },
  {
   "cell_type": "code",
   "execution_count": 117,
   "metadata": {},
   "outputs": [
    {
     "name": "stdout",
     "output_type": "stream",
     "text": [
      " \n",
      "0\n",
      " \n",
      "1\n",
      " \n",
      "1 x\n",
      " \n",
      "1 x + 1\n",
      "   2\n",
      "1 x\n",
      "   2\n",
      "1 x + 1\n",
      "   2\n",
      "1 x + 1 x\n",
      "   2\n",
      "1 x + 1 x + 1\n",
      "[array([0., 0., 0., 0., 0., 0., 0., 0., 0., 0., 0., 0., 0., 0., 0.]), array([0., 0., 1., 1., 0., 0., 0., 1., 1., 1., 0., 0., 1., 0., 1.]), array([0., 1., 1., 0., 0., 0., 1., 1., 1., 0., 0., 1., 0., 1., 0.]), array([0., 1., 0., 1., 0., 0., 1., 0., 0., 1., 0., 1., 1., 1., 1.]), array([1., 1., 0., 0., 0., 1., 1., 1., 0., 0., 1., 0., 1., 0., 0.]), array([1., 1., 1., 1., 0., 1., 1., 0., 1., 1., 1., 0., 0., 0., 1.]), array([1., 0., 1., 0., 0., 1., 0., 0., 1., 0., 1., 1., 1., 1., 0.]), array([1., 0., 0., 1., 0., 1., 0., 1., 0., 1., 1., 1., 0., 1., 1.])]\n"
     ]
    }
   ],
   "source": [
    "# Define the input message u(D)=1+ D^2\n",
    "#u = np.poly1d([1, 0, 1])\n",
    "# Define the generator polynomials for the convolutional code\n",
    "# Define a vector of polynomial coefficients\n",
    "coefficients = np.array([[1, 0, 1], [1, 1, 1], [1, 1, 0]])\n",
    "# Define a vector of polynomial functions\n",
    "G= [np.poly1d(coefficients[0,:]), np.poly1d(coefficients[1,:]), np.poly1d(coefficients[2,:])]\n",
    "#encode the input message\n",
    "def encode(u):\n",
    "    x=np.zeros((3,5))\n",
    "    for i in range(3):\n",
    "        s=G[i]*u\n",
    "        c=s.coefficients %2\n",
    "        if len(c)!=5:\n",
    "            a=np.zeros((5-len(c)))\n",
    "            c=np.concatenate([a,c])\n",
    "        \n",
    "        x[i,:]= c\n",
    "    \n",
    "    return(np.concatenate([x[2,:],x[1,:],x[0,:]]))\n",
    "vectors = list(itertools.product([0, 1], repeat=3))\n",
    "codebook=[]\n",
    "for i in range(8):\n",
    "    u = np.poly1d(vectors[i])\n",
    "    print(u)\n",
    "    codebook.append(encode(u))\n",
    "print(codebook)\n",
    "\n"
   ]
  },
  {
   "cell_type": "code",
   "execution_count": 118,
   "metadata": {},
   "outputs": [
    {
     "name": "stdout",
     "output_type": "stream",
     "text": [
      "0.325\n",
      "Encoded message: [0. 1. 1. 0. 0. 0. 1. 1. 1. 0. 0. 1. 0. 1. 0. 0. 0. 0. 0. 0. 0. 0. 0. 0.\n",
      " 0. 0. 0. 0. 0. 0. 0. 0. 1. 1. 0. 0. 0. 1. 1. 1. 0. 0. 1. 0. 1. 0. 1. 0.\n",
      " 1. 0. 0. 1. 0. 0. 1. 0. 1. 1. 1. 1. 0. 1. 1. 0. 0. 0. 1. 1. 1. 0. 0. 1.\n",
      " 0. 1. 0. 0. 0. 0. 0. 0. 0. 0. 0. 0. 0. 0. 0. 0. 0. 0. 0. 0. 1. 1. 0. 0.\n",
      " 0. 1. 1. 1. 0. 0. 1. 0. 1. 0. 1. 0. 1. 0. 0. 1. 0. 0. 1. 0. 1. 1. 1. 1.]\n",
      "Received message: [1. 1. 1. 1. 0. 1. 0. 1. 1. 1. 1. 1. 0. 1. 0. 0. 1. 1. 0. 0. 0. 1. 1. 0.\n",
      " 1. 0. 0. 0. 0. 0. 1. 0. 0. 1. 1. 0. 1. 1. 0. 1. 0. 0. 1. 0. 0. 1. 1. 0.\n",
      " 0. 0. 0. 1. 1. 0. 0. 0. 1. 0. 1. 1. 0. 1. 0. 0. 0. 0. 0. 1. 1. 0. 0. 1.\n",
      " 1. 1. 0. 0. 0. 1. 0. 0. 1. 0. 0. 0. 0. 1. 1. 0. 0. 1. 0. 1. 1. 1. 0. 0.\n",
      " 0. 0. 1. 0. 0. 0. 1. 1. 0. 0. 1. 1. 1. 0. 0. 1. 1. 0. 1. 1. 1. 1. 0. 1.]\n"
     ]
    }
   ],
   "source": [
    "\n",
    "\n",
    "def noisy_channel(encoded_message, crossover_prob):\n",
    "    \"\"\"\n",
    "    Simulates transmission of an encoded message through a memoryless noisy channel based on a given crossover probability.\n",
    "    \n",
    "    Parameters:\n",
    "        encoded_message (array): The encoded message to transmit.\n",
    "        crossover_prob (float): The probability that a bit will be flipped during transmission.\n",
    "    \n",
    "    Returns:\n",
    "        str: The received message after transmission through the noisy channel.\n",
    "    \"\"\"\n",
    "    y = []\n",
    "    for bit in encoded_message:\n",
    "        if random.random() < crossover_prob:\n",
    "            # flip the bit\n",
    "            if bit == 1 :\n",
    "                y=np.append(y,0)  \n",
    "            else :\n",
    "                y=np.append(y,1)\n",
    "        else:\n",
    "            # leave the bit unchanged\n",
    "            y=np.append(y, int(bit)) \n",
    "    return y\n",
    "received_message=np.zeros((1,15))\n",
    "crossover_prob = 0.3\n",
    "encoded_message =np.concatenate([ codebook[2], codebook[0], codebook[1],codebook[3],codebook[2], codebook[0], codebook[1],codebook[3] ])\n",
    "received_message = noisy_channel(encoded_message, crossover_prob)\n",
    "s=np.sum(encoded_message!=received_message)/len(received_message)\n",
    "print(s)\n",
    "print('Encoded message:', encoded_message)\n",
    "print('Received message:', received_message)\n"
   ]
  },
  {
   "attachments": {},
   "cell_type": "markdown",
   "metadata": {},
   "source": [
    "Ziv Universal Decoding Function"
   ]
  },
  {
   "cell_type": "code",
   "execution_count": 119,
   "metadata": {},
   "outputs": [],
   "source": [
    "def decouper_sequence_binaire(y,x):\n",
    "    \n",
    "    i= 1\n",
    "    w={}\n",
    "    w[y[0]]=x[0]\n",
    "    while i <=len(y)-1:\n",
    "        ybit = str(y[i])\n",
    "        xbit = str(x[i])\n",
    "        \n",
    "        while (ybit,xbit) in w.items():\n",
    "            if i ==len(y)-1:\n",
    "                w[ybit]=xbit\n",
    "                return(w) \n",
    "            else:\n",
    "                i=i+1\n",
    "                xbit = xbit + str(x[i])\n",
    "                ybit = ybit + str(y[i])\n",
    "        w[ybit]=xbit       \n",
    "        i += 1\n",
    "    return w\n",
    "\n",
    "\n",
    "\n",
    "def univ_dec(n, Y, X):\n",
    "    d = decouper_sequence_binaire(Y, X)\n",
    "    W=list(d.items())\n",
    "    Cxy={}\n",
    "    j=0\n",
    "    w=set(W)\n",
    "    l_xy={}\n",
    "    for i in w:\n",
    "        if i[1] in Cxy.keys():\n",
    "            Cxy[i[1]]+=1\n",
    "        else:\n",
    "            Cxy[i[1]]=1\n",
    "        l_xy[i[1]]=np.log2(Cxy[i[1]])\n",
    "    s = (1 / n) * sum(i * j for i, j in zip(list(Cxy.values()), list(l_xy.values())))\n",
    "    return(s)"
   ]
  },
  {
   "cell_type": "markdown",
   "metadata": {},
   "source": [
    "MMI Decoder"
   ]
  },
  {
   "cell_type": "code",
   "execution_count": 162,
   "metadata": {},
   "outputs": [
    {
     "name": "stdout",
     "output_type": "stream",
     "text": [
      "the decoded message using MMI decoder is [1.0, 0.0, 0.0, 1.0, 0.0, 1.0, 0.0, 1.0, 0.0, 1.0, 1.0, 1.0, 0.0, 1.0, 1.0]\n"
     ]
    }
   ],
   "source": [
    "def mmi_decoder(codebook,received_message):\n",
    "    prob_x=[]\n",
    "    prob_y=[]\n",
    "    prob_xy=[]\n",
    "    mutual_all=[]\n",
    "    n0=0\n",
    "    n1=0\n",
    "    n00=0\n",
    "    n11=0\n",
    "    n10=0\n",
    "    n01=0\n",
    "    for x_i in codebook:\n",
    "        for bit in x_i:\n",
    "            if bit==0:\n",
    "                n0=n0+1\n",
    "            else:\n",
    "                n1=n1+1\n",
    "        prob_xi=[n0/(n0+n1),n1/(n0+n1)] \n",
    "        prob_x.append(prob_xi)\n",
    "    \n",
    "    for bit in received_message:\n",
    "        if bit==0:\n",
    "            n0=n0+1\n",
    "        else:\n",
    "            n1=n1+1\n",
    "        prob_yi=[n0/(n0+n1),n1/(n0+n1)] \n",
    "        prob_y.append(prob_yi)\n",
    "    for x_i in codebook:\n",
    "        mutual_information=0\n",
    "        for i in range(len(x_i)):\n",
    "            if(x_i[i]==0)and(received_message[i]==0):\n",
    "                n00=n00+1\n",
    "                denominateur=prob_x[0][0]*prob_y[0][0]\n",
    "                mutual_information+=n00/4*(-np.log2(denominateur))\n",
    "            elif (x_i[i]==0)and(received_message[i]==1):\n",
    "                n01=n01+1\n",
    "                denominateur=prob_x[0][0]*prob_y[1][1]\n",
    "                mutual_information+=n01/4*(-np.log2(denominateur))\n",
    "            elif(x_i[i]==1)and(received_message[i]==0): \n",
    "                denominateur=prob_x[1][1]*prob_y[0][0]\n",
    "                n10=n10+1\n",
    "                mutual_information+=n10/4*(-np.log2(denominateur))\n",
    "                    \n",
    "            else :\n",
    "                n11=n11+1\n",
    "                denominateur=prob_x[1][1]*prob_y[1][1]\n",
    "                mutual_information+=n11/4*(-np.log2(denominateur))\n",
    "                  \n",
    "        denominateur=1\n",
    "        mutual_all.append( mutual_information)\n",
    "    max_minformation = max(mutual_all)  \n",
    "    x_hat = codebook[mutual_all.index(max_minformation )]\n",
    "\n",
    "    return list(x_hat)\n",
    "mmi=mmi_decoder(codebook,received_message)\n",
    "print(\"the decoded message using MMI decoder is\",mmi)"
   ]
  },
  {
   "attachments": {},
   "cell_type": "markdown",
   "metadata": {},
   "source": [
    "ML Decoder"
   ]
  },
  {
   "cell_type": "code",
   "execution_count": 159,
   "metadata": {},
   "outputs": [
    {
     "name": "stdout",
     "output_type": "stream",
     "text": [
      "[0. 0. 0. 0. 0. 0. 0. 0. 0. 0. 0. 0. 0. 0. 0.]\n"
     ]
    }
   ],
   "source": [
    "\n",
    "def max_likelihood_decoder(received_message, codebook):\n",
    "    p_c=0.15\n",
    "    x=[]\n",
    "    likelihoods = []\n",
    "    \n",
    "    for x_i in codebook:\n",
    "            p_y_given_x = 1.0\n",
    "            for i in range(len(x_i)):\n",
    "                if (received_message[i] == x_i[i]):#begining with the first seq \n",
    "                    p_y_given_x *= 1 - p_c\n",
    "                   \n",
    "\n",
    "                else:\n",
    "                    p_y_given_x *= p_c\n",
    "                    \n",
    "\n",
    "            likelihoods.append(p_y_given_x)\n",
    "    max_likelihood = max(likelihoods) \n",
    "    x_hat = codebook[likelihoods.index(max_likelihood)]\n",
    "       \n",
    "\n",
    "    # Determine the most likely transmitted sequence\n",
    "    \n",
    "    return x_hat\n",
    "print(max_likelihood_decoder(received_message[j*15:(j+1)*15], codebook))\n"
   ]
  },
  {
   "attachments": {},
   "cell_type": "markdown",
   "metadata": {},
   "source": [
    "Simulation"
   ]
  },
  {
   "cell_type": "code",
   "execution_count": 164,
   "metadata": {},
   "outputs": [
    {
     "name": "stdout",
     "output_type": "stream",
     "text": [
      "[1. 0. 0. 1. 0. 1. 0. 1. 0. 1. 1. 1. 0. 1. 1.]\n",
      "[1. 0. 0. 1. 0. 1. 0. 1. 0. 1. 1. 1. 0. 1. 1.]\n",
      "[1. 0. 0. 1. 0. 1. 0. 1. 0. 1. 1. 1. 0. 1. 1.]\n",
      "[1. 0. 0. 1. 0. 1. 0. 1. 0. 1. 1. 1. 0. 1. 1.]\n",
      "[1. 0. 0. 1. 0. 1. 0. 1. 0. 1. 1. 1. 0. 1. 1.]\n",
      "[1. 0. 0. 1. 0. 1. 0. 1. 0. 1. 1. 1. 0. 1. 1.]\n",
      "[1. 0. 0. 1. 0. 1. 0. 1. 0. 1. 1. 1. 0. 1. 1.]\n",
      "[1. 0. 0. 1. 0. 1. 0. 1. 0. 1. 1. 1. 0. 1. 1.]\n",
      "[1. 0. 0. 1. 0. 1. 0. 1. 0. 1. 1. 1. 0. 1. 1.]\n",
      "[1. 0. 0. 1. 0. 1. 0. 1. 0. 1. 1. 1. 0. 1. 1.]\n",
      "[1. 0. 0. 1. 0. 1. 0. 1. 0. 1. 1. 1. 0. 1. 1.]\n",
      "[0.0, 0.0, 0.4666666666666667, 0.0, 0.0, 0.4666666666666667, 0.0, 0.0, 0.0, 0.0, 0.0]\n",
      "[0.5333333333333333, 0.5333333333333333, 0.5333333333333333, 0.5333333333333333, 0.5333333333333333, 0.5333333333333333, 0.5333333333333333, 0.5333333333333333, 0.5333333333333333, 0.5333333333333333, 0.5333333333333333]\n",
      "[0.0, 0.0, 0.0, 0.4666666666666667, 0.0, 0.5333333333333333, 0.6, 0.4666666666666667, 0.5333333333333333, 0.5333333333333333, 0.6666666666666666]\n"
     ]
    },
    {
     "data": {
      "image/png": "[encoded data removed]",
      "text/plain": [
       "<Figure size 640x480 with 1 Axes>"
      ]
     },
     "metadata": {},
     "output_type": "display_data"
    }
   ],
   "source": [
    "t=np.random.randint(0, 8, 500)\n",
    "#for i in t:\n",
    " #   encoded_message =np.concatenate([ codebook[i], encoded_message])\n",
    "\n",
    "encoded_message =codebook[1]\n",
    "#encoded_message =np.concatenate([ codebook[2], codebook[0], codebook[1],codebook[3],codebook[2], codebook[0], codebook[1],codebook[3], codebook[7],codebook[6], codebook[4],codebook[5],codebook[3], codebook[7],codebook[6], codebook[4],codebook[5] ])\n",
    "#cross_over = sorted([random.uniform(0, 1) for _ in range(50)])\n",
    "cross_over= [i * 0.1 for i in range(0, 11)]\n",
    "n=len(encoded_message)\n",
    "P_err_ziv=[]\n",
    "P_err_MMI=[]\n",
    "P_err_ML=[]\n",
    "for i in cross_over:\n",
    "    received_message = noisy_channel(encoded_message, i)\n",
    "    y_ziv=[]\n",
    "    y_mmi=[]\n",
    "    y_ml=[]\n",
    "    for j in range(len(received_message)//15):\n",
    "        #ZIV\n",
    "        u=[]\n",
    "        for x in codebook:\n",
    "            u.append(univ_dec(15,received_message[j*15:(j+1)*15],x))\n",
    "        min_index = u.index(min(u))\n",
    "        y_ziv=np.concatenate([y_ziv, codebook[min_index]])\n",
    "        #MMI\n",
    "        y_mmi= np.concatenate([y_mmi, mmi_decoder(codebook,received_message[j*15:(j+1)*15])])\n",
    "        print(y_mmi)\n",
    "        #ML\n",
    "        y_ml= np.concatenate([y_ml, max_likelihood_decoder(received_message[j*15:(j+1)*15], codebook)])\n",
    "\n",
    "    P_err_ziv.append(np.sum(encoded_message!=y_ziv)/len(y_ziv))\n",
    "    P_err_MMI.append(np.sum(encoded_message!=y_mmi)/len(y_mmi))\n",
    "    P_err_ML.append(np.sum(encoded_message!=y_ml)/len(y_ml))\n",
    "\n",
    "print(P_err_ziv)\n",
    "print(P_err_MMI)\n",
    "print(P_err_ML)\n",
    "# plot the graph\n",
    "plt.plot(cross_over, P_err_ziv)\n",
    "plt.plot(cross_over, P_err_MMI)\n",
    "plt.plot(cross_over, P_err_ML)\n",
    "# add labels and title\n",
    "plt.xlabel('cross over probability')\n",
    "plt.ylabel('Probability of error of ziv decoder')\n",
    "plt.title('Graph of Probability of error vs. cross over probability')\n",
    "\n",
    "# display the graph\n",
    "plt.show()\n",
    "  \n"
   ]
  }
 ],
 "metadata": {
  "kernelspec": {
   "display_name": "Python 3",
   "language": "python",
   "name": "python3"
  },
  "language_info": {
   "codemirror_mode": {
    "name": "ipython",
    "version": 3
   },
   "file_extension": ".py",
   "mimetype": "text/x-python",
   "name": "python",
   "nbconvert_exporter": "python",
   "pygments_lexer": "ipython3",
   "version": "3.11.1"
  },
  "orig_nbformat": 4,
  "vscode": {
   "interpreter": {
    "hash": "c630d4c68815c567c5c3556f73760324cbd7b789992ba81adab90dfcd7c69aac"
   }
  }
 },
 "nbformat": 4,
 "nbformat_minor": 2
}
